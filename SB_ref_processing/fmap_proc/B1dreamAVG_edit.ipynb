{
 "cells": [
  {
   "cell_type": "code",
   "execution_count": 16,
   "metadata": {},
   "outputs": [],
   "source": [
    "from nilearn import image, plotting\n",
    "%matplotlib inline\n",
    "import os\n",
    "import glob\n",
    "import numpy as np\n",
    "import nibabel as nib"
   ]
  },
  {
   "cell_type": "code",
   "execution_count": 17,
   "metadata": {},
   "outputs": [
    {
     "data": {
      "text/plain": [
       "'/home/neuro/projects/code'"
      ]
     },
     "execution_count": 17,
     "metadata": {},
     "output_type": "execute_result"
    }
   ],
   "source": [
    "os.getcwd()"
   ]
  },
  {
   "cell_type": "code",
   "execution_count": 18,
   "metadata": {},
   "outputs": [],
   "source": [
    "# dir for new acquisitions of anatomies\n",
    "sub_num = '09'\n",
    "SB_dir_B1 = '/home/neuro/projects/data/sub-'+sub_num+'/ses-anat/fmap/sub-'+sub_num+'_ses-anat_acq-dream'"
   ]
  },
  {
   "cell_type": "code",
   "execution_count": 19,
   "metadata": {},
   "outputs": [
    {
     "ename": "NameError",
     "evalue": "name 'numpy' is not defined",
     "output_type": "error",
     "traceback": [
      "\u001b[0;31m---------------------------------------------------------------------------\u001b[0m",
      "\u001b[0;31mNameError\u001b[0m                                 Traceback (most recent call last)",
      "\u001b[0;32m<ipython-input-19-2532be0ff8ef>\u001b[0m in \u001b[0;36m<module>\u001b[0;34m()\u001b[0m\n\u001b[1;32m      5\u001b[0m     \u001b[0mcheck_img\u001b[0m \u001b[0;34m=\u001b[0m \u001b[0mnib\u001b[0m\u001b[0;34m.\u001b[0m\u001b[0mload\u001b[0m\u001b[0;34m(\u001b[0m\u001b[0mB1\u001b[0m\u001b[0;34m)\u001b[0m\u001b[0;34m\u001b[0m\u001b[0m\n\u001b[1;32m      6\u001b[0m     \u001b[0mcheck_data\u001b[0m \u001b[0;34m=\u001b[0m \u001b[0mcheck_img\u001b[0m\u001b[0;34m.\u001b[0m\u001b[0mget_data\u001b[0m\u001b[0;34m(\u001b[0m\u001b[0;34m)\u001b[0m\u001b[0;34m\u001b[0m\u001b[0m\n\u001b[0;32m----> 7\u001b[0;31m     \u001b[0mmax_int\u001b[0m \u001b[0;34m=\u001b[0m \u001b[0mnumpy\u001b[0m\u001b[0;34m.\u001b[0m\u001b[0mamax\u001b[0m\u001b[0;34m(\u001b[0m\u001b[0mcheck_data\u001b[0m\u001b[0;34m)\u001b[0m \u001b[0;31m#check max intensity of image\u001b[0m\u001b[0;34m\u001b[0m\u001b[0m\n\u001b[0m\u001b[1;32m      8\u001b[0m     \u001b[0;32mif\u001b[0m \u001b[0mmax_int\u001b[0m\u001b[0;34m*\u001b[0m\u001b[0mfloat\u001b[0m\u001b[0;34m(\u001b[0m\u001b[0mFA\u001b[0m\u001b[0;34m[\u001b[0m\u001b[0mi\u001b[0m\u001b[0;34m]\u001b[0m\u001b[0;34m)\u001b[0m \u001b[0;34m<\u001b[0m \u001b[0;36m50\u001b[0m\u001b[0;34m:\u001b[0m \u001b[0;31m#if it doesn't reach the tresh, only save nifti in my dir\u001b[0m\u001b[0;34m\u001b[0m\u001b[0m\n\u001b[1;32m      9\u001b[0m         \u001b[0mprint\u001b[0m\u001b[0;34m(\u001b[0m\u001b[0;34m'No ceiling because max intensity is %f for %s, lower than 50º'\u001b[0m \u001b[0;34m%\u001b[0m\u001b[0;34m(\u001b[0m\u001b[0mmax_int\u001b[0m\u001b[0;34m*\u001b[0m\u001b[0mfloat\u001b[0m\u001b[0;34m(\u001b[0m\u001b[0mFA\u001b[0m\u001b[0;34m[\u001b[0m\u001b[0mi\u001b[0m\u001b[0;34m]\u001b[0m\u001b[0;34m)\u001b[0m\u001b[0;34m,\u001b[0m\u001b[0mos\u001b[0m\u001b[0;34m.\u001b[0m\u001b[0mpath\u001b[0m\u001b[0;34m.\u001b[0m\u001b[0mbasename\u001b[0m\u001b[0;34m(\u001b[0m\u001b[0mB1\u001b[0m\u001b[0;34m)\u001b[0m\u001b[0;34m.\u001b[0m\u001b[0msplit\u001b[0m\u001b[0;34m(\u001b[0m\u001b[0mos\u001b[0m\u001b[0;34m.\u001b[0m\u001b[0mextsep\u001b[0m\u001b[0;34m)\u001b[0m\u001b[0;34m[\u001b[0m\u001b[0;36m0\u001b[0m\u001b[0;34m]\u001b[0m\u001b[0;34m)\u001b[0m\u001b[0;34m)\u001b[0m\u001b[0;34m\u001b[0m\u001b[0m\n",
      "\u001b[0;31mNameError\u001b[0m: name 'numpy' is not defined"
     ]
    }
   ],
   "source": [
    "FA = ['30','45','60']\n",
    "thresh = '50' #degree of FA to use for ceiling\n",
    "for i in range(len(FA)):\n",
    "    B1 = glob.glob(SB_dir_B1+FA[i]+'_B1map.nii.gz'); B1=B1[0] #path to B1 map\n",
    "    check_img = nib.load(B1)\n",
    "    check_data = check_img.get_data()\n",
    "    max_int = numpy.amax(check_data) #check max intensity of image\n",
    "    if max_int*float(FA[i]) < 50: #if it doesn't reach the tresh, only save nifti in my dir\n",
    "        print('No ceiling because max intensity is %f for %s, lower than 50º' %(max_int*float(FA[i]),os.path.basename(B1).split(os.extsep)[0]))\n",
    "        img = nib.Nifti1Image(check_data, check_img.affine)\n",
    "        nib.save(img, os.path.basename(B1).split(os.extsep)[0]+'_trueFA_50degthresh.nii.gz')\n",
    "    else:       \n",
    "        data_b1 = image.load_img(B1) #load orig img\n",
    "        trFA_b1 = image.math_img('np.clip(img1*'+FA[i]+',0,'+thresh+')/'+FA[i],img1=data_b1) # get true FA img, ceilinged at 50º        \n",
    "        trFA_b1.to_filename(os.path.basename(B1).split(os.extsep)[0]+'_trueFA_50degthresh.nii.gz') # save only image name, no extensions   "
   ]
  },
  {
   "cell_type": "code",
   "execution_count": 142,
   "metadata": {},
   "outputs": [],
   "source": [
    "data1 = image.load_img('sub-'+sub_num+'_ses-anat_acq-dream'+FA[0]+'_B1map_trueFA_50degthresh.nii.gz')\n",
    "data2 = image.load_img('sub-'+sub_num+'_ses-anat_acq-dream'+FA[1]+'_B1map_trueFA_50degthresh.nii.gz')\n",
    "data3 = image.load_img('sub-'+sub_num+'_ses-anat_acq-dream'+FA[2]+'_B1map_trueFA_50degthresh.nii.gz')\n",
    "# concatenate all b1 maps and get average img\n",
    "trFA_b1_avg = image.mean_img(image.concat_imgs([data1,data2,data3]))\n",
    "trFA_b1_avg.to_filename('sub-'+sub_num+'_ses-anat_acq-dreamAVG_B1map_trueFA_50degthresh.nii.gz') # save only image name, no extensions\n"
   ]
  }
 ],
 "metadata": {
  "kernelspec": {
   "display_name": "Python 3",
   "language": "python",
   "name": "python3"
  },
  "language_info": {
   "codemirror_mode": {
    "name": "ipython",
    "version": 3
   },
   "file_extension": ".py",
   "mimetype": "text/x-python",
   "name": "python",
   "nbconvert_exporter": "python",
   "pygments_lexer": "ipython3",
   "version": "3.6.2"
  }
 },
 "nbformat": 4,
 "nbformat_minor": 2
}
