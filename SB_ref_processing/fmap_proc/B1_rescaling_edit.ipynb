{
 "cells": [
  {
   "cell_type": "code",
   "execution_count": 38,
   "metadata": {},
   "outputs": [],
   "source": [
    "from nilearn import image, plotting\n",
    "import os\n",
    "import glob\n",
    "import numpy\n",
    "import nibabel as nib"
   ]
  },
  {
   "cell_type": "code",
   "execution_count": 39,
   "metadata": {},
   "outputs": [
    {
     "name": "stdout",
     "output_type": "stream",
     "text": [
      "/home/neuro/projects/code\n"
     ]
    }
   ],
   "source": [
    "cwd = os.getcwd()\n",
    "print(cwd)"
   ]
  },
  {
   "cell_type": "code",
   "execution_count": 40,
   "metadata": {},
   "outputs": [],
   "source": [
    "#os.listdir('/home/neuro/projects/data/')"
   ]
  },
  {
   "cell_type": "code",
   "execution_count": 41,
   "metadata": {},
   "outputs": [],
   "source": [
    "# dir for new acquisitions of anatomies\n",
    "sub_num = '08'\n",
    "SB_dir_B1 = '/home/neuro/projects/data/sub-'+sub_num+'/ses-anat/fmap/sub-'+sub_num+'_ses-anat' #_acq-dream'"
   ]
  },
  {
   "cell_type": "code",
   "execution_count": 42,
   "metadata": {},
   "outputs": [
    {
     "data": {
      "text/plain": [
       "'/home/neuro/projects/data/sub-08/ses-anat/fmap/sub-08_ses-anat'"
      ]
     },
     "execution_count": 42,
     "metadata": {},
     "output_type": "execute_result"
    }
   ],
   "source": [
    "SB_dir_B1"
   ]
  },
  {
   "cell_type": "code",
   "execution_count": 43,
   "metadata": {},
   "outputs": [],
   "source": [
    "# create list of B1 map files for that subjects anatomical session\n",
    "#list_B1 = glob.glob(SB_dir_B1+'*_B1map.nii.gz')\n",
    "#siz_list = len(list_B1)"
   ]
  },
  {
   "cell_type": "code",
   "execution_count": 44,
   "metadata": {},
   "outputs": [],
   "source": [
    "#import shutil\n",
    "#for i in range(siz_list-1):\n",
    "#    shutil.copy2(list_B1[i], B1_orig)"
   ]
  },
  {
   "cell_type": "code",
   "execution_count": 45,
   "metadata": {},
   "outputs": [],
   "source": [
    "#os.listdir('/data/projects/SB-ref/')"
   ]
  },
  {
   "cell_type": "code",
   "execution_count": 46,
   "metadata": {},
   "outputs": [
    {
     "name": "stdout",
     "output_type": "stream",
     "text": [
      "['/home/neuro/projects/data/sub-08/ses-anat/fmap/sub-08_ses-anat_B1map.nii.gz']\n"
     ]
    }
   ],
   "source": [
    "list_B1 = [SB_dir_B1+'_B1map.nii.gz']\n",
    "siz_list = len(list_B1)\n",
    "print(list_B1)"
   ]
  },
  {
   "cell_type": "code",
   "execution_count": 47,
   "metadata": {},
   "outputs": [
    {
     "name": "stdout",
     "output_type": "stream",
     "text": [
      "sub-08_ses-anat_B1map already rescaled, max intensity is 2.087676\n"
     ]
    }
   ],
   "source": [
    "for i in range(siz_list):\n",
    "    check_img = nib.load(list_B1[i])\n",
    "    check_data = check_img.get_data()\n",
    "    max_int = numpy.amax(check_data) #check max intensity of image\n",
    "\n",
    "    if max_int < 5:\n",
    "        print('%s already rescaled, max intensity is %f' %(os.path.basename(list_B1[i]).split(os.extsep)[0],max_int))\n",
    "    else:  \n",
    "        # import image\n",
    "        data = image.load_img(list_B1[i])\n",
    "        print(data.shape)\n",
    "        # only 1st volume is B1 map (what are others?)\n",
    "        data_b1 = image.index_img(data,0)\n",
    "        print(data_b1.shape)\n",
    "        # divide by 1000 to get a rescaled B1 (median intensity 1)\n",
    "        new_b1 = image.math_img(\"img1/1000\",img1=data_b1)\n",
    "        %matplotlib inline\n",
    "        plotting.plot_img(new_b1)\n",
    "        new_b1.to_filename(os.path.basename(list_B1[i]).split(os.extsep)[0]+'_rescaled.nii.gz') # save only image name, no extensions"
   ]
  },
  {
   "cell_type": "code",
   "execution_count": 33,
   "metadata": {},
   "outputs": [
    {
     "data": {
      "text/plain": [
       "<matplotlib.axes._subplots.AxesSubplot at 0x7faeaf7e3748>"
      ]
     },
     "execution_count": 33,
     "metadata": {},
     "output_type": "execute_result"
    },
    {
     "data": {
      "image/png": "[encoded data removed]",
      "text/plain": [
       "<matplotlib.figure.Figure at 0x7faedf636e10>"
      ]
     },
     "metadata": {},
     "output_type": "display_data"
    }
   ],
   "source": [
    "import seaborn as sns\n",
    "%matplotlib inline\n",
    "sns.distplot(check_data.ravel())"
   ]
  },
  {
   "cell_type": "code",
   "execution_count": 31,
   "metadata": {},
   "outputs": [
    {
     "data": {
      "text/plain": [
       "(262144,)"
      ]
     },
     "execution_count": 31,
     "metadata": {},
     "output_type": "execute_result"
    }
   ],
   "source": []
  },
  {
   "cell_type": "code",
   "execution_count": null,
   "metadata": {},
   "outputs": [],
   "source": []
  }
 ],
 "metadata": {
  "kernelspec": {
   "display_name": "Python 3",
   "language": "python",
   "name": "python3"
  },
  "language_info": {
   "codemirror_mode": {
    "name": "ipython",
    "version": 3
   },
   "file_extension": ".py",
   "mimetype": "text/x-python",
   "name": "python",
   "nbconvert_exporter": "python",
   "pygments_lexer": "ipython3",
   "version": "3.6.2"
  }
 },
 "nbformat": 4,
 "nbformat_minor": 2
}
