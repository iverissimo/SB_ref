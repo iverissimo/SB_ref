{
 "cells": [
  {
   "cell_type": "code",
   "execution_count": 6,
   "metadata": {},
   "outputs": [],
   "source": [
    "# script to rescale, transform to real FA and average B1 dream maps\n",
    "# save final img in my home folder, to later on move to SB-ref folder\n",
    "from nilearn import image, plotting\n",
    "%matplotlib inline\n",
    "import os\n",
    "import glob\n",
    "import numpy as np\n",
    "import nibabel as nib"
   ]
  },
  {
   "cell_type": "code",
   "execution_count": 7,
   "metadata": {},
   "outputs": [],
   "source": [
    "# dir for new acquisitions of anatomies\n",
    "sub_num = '12'\n",
    "SB_dir_B1 = '/home/neuro/projects/data/sub-'+str(sub_num).zfill(2)+'/ses-anat/fmap/sub-'+str(sub_num).zfill(2)+'_ses-anat_acq-dream'"
   ]
  },
  {
   "cell_type": "code",
   "execution_count": 8,
   "metadata": {},
   "outputs": [
    {
     "name": "stdout",
     "output_type": "stream",
     "text": [
      "(64, 64, 64, 6)\n",
      "(64, 64, 64)\n",
      "No ceiling because max intensity x 30.000000º is 26.802123 for sub-12_ses-anat_acq-dream30_B1map_rescaled.nii.gz, lower than 50º\n",
      "(64, 64, 64, 6)\n",
      "(64, 64, 64)\n",
      "(64, 64, 64, 6)\n",
      "(64, 64, 64)\n"
     ]
    }
   ],
   "source": [
    "FA = ['30','45','60']\n",
    "thresh = '50' #degree of FA to use for ceiling\n",
    "\n",
    "for i in range(len(FA)):\n",
    "    B1 = glob.glob(SB_dir_B1+FA[i]+'_B1map.nii.gz'); B1=B1[0] #path to B1 map\n",
    "    check_img = nib.load(B1)\n",
    "    check_data = check_img.get_data()\n",
    "    max_int = np.amax(check_data) #check max intensity of image\n",
    "\n",
    "    if max_int < 5: #IN THIS CASE CHECK DATA\n",
    "        print('%s already rescaled, max intensity is %f' %(os.path.basename(B1).split(os.extsep)[0],max_int))\n",
    "    else:      \n",
    "        data = image.load_img(B1); print(data.shape) # import image\n",
    "        data_b1 = image.index_img(data,0); print(data_b1.shape) # only 1st volume is B1 map (what are others?)\n",
    "        new_b1 = image.math_img(\"img1/1000\",img1=data_b1) # divide by 1000 to get a rescaled B1 (median intensity 1)\n",
    "        new_b1.to_filename(os.path.basename(B1).split(os.extsep)[0]+'_rescaled.nii.gz') # save only image name, no extensions\n",
    "        \n",
    "        check_img = nib.load(os.path.basename(B1).split(os.extsep)[0]+'_rescaled.nii.gz')\n",
    "        max_int = np.amax(check_img.get_data()) #new max intensity after rescaling \n",
    "        \n",
    "        if max_int*float(FA[i]) < 50: #if it doesn't reach the tresh, only save nifti in my dir\n",
    "            print('No ceiling because max intensity x %fº is %f for %s, lower than 50º' %(float(FA[i]),max_int*float(FA[i]),os.path.basename(B1).split(os.extsep)[0]+'_rescaled.nii.gz'))\n",
    "            nib.save(new_b1, os.path.basename(B1).split(os.extsep)[0]+'_trueFA_50degthresh.nii.gz')\n",
    "        else:       \n",
    "            trFA_b1 = image.math_img('np.clip(img1*'+FA[i]+',0,'+thresh+')/'+FA[i],img1=new_b1) # get true FA img, ceilinged at 50º        \n",
    "            trFA_b1.to_filename(os.path.basename(B1).split(os.extsep)[0]+'_trueFA_50degthresh.nii.gz') # save only image name, no extensions   \n",
    "                     "
   ]
  },
  {
   "cell_type": "code",
   "execution_count": 9,
   "metadata": {},
   "outputs": [],
   "source": [
    "#need to average\n",
    "data1 = image.load_img('sub-'+str(sub_num).zfill(2)+'_ses-anat_acq-dream'+FA[0]+'_B1map_trueFA_50degthresh.nii.gz')\n",
    "data2 = image.load_img('sub-'+str(sub_num).zfill(2)+'_ses-anat_acq-dream'+FA[1]+'_B1map_trueFA_50degthresh.nii.gz')\n",
    "data3 = image.load_img('sub-'+str(sub_num).zfill(2)+'_ses-anat_acq-dream'+FA[2]+'_B1map_trueFA_50degthresh.nii.gz')\n",
    "# concatenate all b1 maps and get average img\n",
    "trFA_b1_avg = image.mean_img(image.concat_imgs([data1,data2,data3]))\n",
    "trFA_b1_avg.to_filename('sub-'+str(sub_num).zfill(2)+'_ses-anat_acq-dreamAVG_B1map_trueFA_50degthresh.nii.gz') # save only image name, no extensions\n"
   ]
  },
  {
   "cell_type": "code",
   "execution_count": null,
   "metadata": {},
   "outputs": [],
   "source": []
  }
 ],
 "metadata": {
  "kernelspec": {
   "display_name": "Python 3",
   "language": "python",
   "name": "python3"
  },
  "language_info": {
   "codemirror_mode": {
    "name": "ipython",
    "version": 3
   },
   "file_extension": ".py",
   "mimetype": "text/x-python",
   "name": "python",
   "nbconvert_exporter": "python",
   "pygments_lexer": "ipython3",
   "version": "3.6.2"
  }
 },
 "nbformat": 4,
 "nbformat_minor": 2
}
